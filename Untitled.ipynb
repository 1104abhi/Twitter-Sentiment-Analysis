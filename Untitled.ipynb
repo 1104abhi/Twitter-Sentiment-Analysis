{
 "cells": [
  {
   "cell_type": "code",
   "execution_count": 1,
   "id": "018d7c22-afe0-4865-aeae-6390cc8eded2",
   "metadata": {},
   "outputs": [],
   "source": [
    "import pandas as pd\n",
    "import numpy as np\n",
    "import re\n",
    "import nltk\n",
    "from nltk.corpus import stopwords\n",
    "from nltk.tokenize import word_tokenize\n",
    "from nltk.stem import PorterStemmer\n",
    "from nltk.stem import WordNetLemmatizer\n",
    "from sklearn.feature_extraction.text import TfidfVectorizer\n",
    "import string\n",
    "from sklearn.naive_bayes import MultinomialNB\n",
    "from sklearn.metrics import classification_report , confusion_matrix , accuracy_score"
   ]
  },
  {
   "cell_type": "code",
   "execution_count": 2,
   "id": "51973615-3402-4c4e-b745-fbfccae1cf43",
   "metadata": {},
   "outputs": [],
   "source": [
    "train_data = pd.read_csv(\"twitter_training.csv\" , names=[\"Id\", \"About\", \"labels\", \"text\"])\n",
    "test_data = pd.read_csv(\"twitter_validation.csv\" , names=[\"Id\", \"About\", \"labels\", \"text\"])"
   ]
  },
  {
   "cell_type": "code",
   "execution_count": 3,
   "id": "41c01bbe-d439-47a1-a223-44a0ee8c49f6",
   "metadata": {
    "tags": []
   },
   "outputs": [],
   "source": [
    "train_data.drop('Id', inplace=True, axis=1)\n",
    "train_data.drop('About', inplace=True, axis=1)\n",
    "test_data.drop('Id', inplace=True, axis=1)\n",
    "test_data.drop('About', inplace=True, axis=1)\n",
    "\n",
    "train_data.drop(train_data[train_data['labels'] == 'Irrelevant'].index , inplace = True)\n",
    "test_data.drop(test_data[test_data['labels'] == 'Irrelevant'].index , inplace = True)"
   ]
  },
  {
   "cell_type": "code",
   "execution_count": 4,
   "id": "ee748ebb-3cb3-4476-bd17-9de0f4a70add",
   "metadata": {},
   "outputs": [],
   "source": [
    "train_data['labels'].replace(['Negative' , 'Neutral' , 'Positive'] , [-1 , 0 , 1] , inplace = True)\n",
    "test_data['labels'].replace(['Negative' , 'Neutral' , 'Positive'] , [-1 , 0 , 1] , inplace = True)"
   ]
  },
  {
   "cell_type": "code",
   "execution_count": 5,
   "id": "0d10c936-8e5c-4233-9502-a7df688ea92a",
   "metadata": {
    "tags": []
   },
   "outputs": [
    {
     "data": {
      "text/html": [
       "<div>\n",
       "<style scoped>\n",
       "    .dataframe tbody tr th:only-of-type {\n",
       "        vertical-align: middle;\n",
       "    }\n",
       "\n",
       "    .dataframe tbody tr th {\n",
       "        vertical-align: top;\n",
       "    }\n",
       "\n",
       "    .dataframe thead th {\n",
       "        text-align: right;\n",
       "    }\n",
       "</style>\n",
       "<table border=\"1\" class=\"dataframe\">\n",
       "  <thead>\n",
       "    <tr style=\"text-align: right;\">\n",
       "      <th></th>\n",
       "      <th>index</th>\n",
       "      <th>labels</th>\n",
       "      <th>text</th>\n",
       "    </tr>\n",
       "  </thead>\n",
       "  <tbody>\n",
       "    <tr>\n",
       "      <th>0</th>\n",
       "      <td>1</td>\n",
       "      <td>0</td>\n",
       "      <td>BBC News - Amazon boss Jeff Bezos rejects clai...</td>\n",
       "    </tr>\n",
       "    <tr>\n",
       "      <th>1</th>\n",
       "      <td>2</td>\n",
       "      <td>-1</td>\n",
       "      <td>@Microsoft Why do I pay for WORD when it funct...</td>\n",
       "    </tr>\n",
       "    <tr>\n",
       "      <th>2</th>\n",
       "      <td>3</td>\n",
       "      <td>-1</td>\n",
       "      <td>CSGO matchmaking is so full of closet hacking,...</td>\n",
       "    </tr>\n",
       "    <tr>\n",
       "      <th>3</th>\n",
       "      <td>4</td>\n",
       "      <td>0</td>\n",
       "      <td>Now the President is slapping Americans in the...</td>\n",
       "    </tr>\n",
       "    <tr>\n",
       "      <th>4</th>\n",
       "      <td>5</td>\n",
       "      <td>-1</td>\n",
       "      <td>Hi @EAHelp I’ve had Madeleine McCann in my cel...</td>\n",
       "    </tr>\n",
       "    <tr>\n",
       "      <th>...</th>\n",
       "      <td>...</td>\n",
       "      <td>...</td>\n",
       "      <td>...</td>\n",
       "    </tr>\n",
       "    <tr>\n",
       "      <th>823</th>\n",
       "      <td>993</td>\n",
       "      <td>-1</td>\n",
       "      <td>Please explain how this is possible! How can t...</td>\n",
       "    </tr>\n",
       "    <tr>\n",
       "      <th>824</th>\n",
       "      <td>994</td>\n",
       "      <td>1</td>\n",
       "      <td>Good on Sony. As much as I want to see the new...</td>\n",
       "    </tr>\n",
       "    <tr>\n",
       "      <th>825</th>\n",
       "      <td>997</td>\n",
       "      <td>1</td>\n",
       "      <td>Today sucked so it’s time to drink wine n play...</td>\n",
       "    </tr>\n",
       "    <tr>\n",
       "      <th>826</th>\n",
       "      <td>998</td>\n",
       "      <td>1</td>\n",
       "      <td>Bought a fraction of Microsoft today. Small wins.</td>\n",
       "    </tr>\n",
       "    <tr>\n",
       "      <th>827</th>\n",
       "      <td>999</td>\n",
       "      <td>0</td>\n",
       "      <td>Johnson &amp; Johnson to stop selling talc baby po...</td>\n",
       "    </tr>\n",
       "  </tbody>\n",
       "</table>\n",
       "<p>828 rows × 3 columns</p>\n",
       "</div>"
      ],
      "text/plain": [
       "     index  labels                                               text\n",
       "0        1       0  BBC News - Amazon boss Jeff Bezos rejects clai...\n",
       "1        2      -1  @Microsoft Why do I pay for WORD when it funct...\n",
       "2        3      -1  CSGO matchmaking is so full of closet hacking,...\n",
       "3        4       0  Now the President is slapping Americans in the...\n",
       "4        5      -1  Hi @EAHelp I’ve had Madeleine McCann in my cel...\n",
       "..     ...     ...                                                ...\n",
       "823    993      -1  Please explain how this is possible! How can t...\n",
       "824    994       1  Good on Sony. As much as I want to see the new...\n",
       "825    997       1  Today sucked so it’s time to drink wine n play...\n",
       "826    998       1  Bought a fraction of Microsoft today. Small wins.\n",
       "827    999       0  Johnson & Johnson to stop selling talc baby po...\n",
       "\n",
       "[828 rows x 3 columns]"
      ]
     },
     "execution_count": 5,
     "metadata": {},
     "output_type": "execute_result"
    }
   ],
   "source": [
    "train_data.reset_index()\n",
    "test_data.reset_index()"
   ]
  },
  {
   "cell_type": "code",
   "execution_count": 6,
   "id": "9eed2c8e-b699-4a47-a163-4fa8f82e3b86",
   "metadata": {
    "tags": []
   },
   "outputs": [],
   "source": [
    "train_X , test_X , train_Y , test_Y = [] , [] , [] , []  \n",
    "stop_words = set(stopwords.words('english'))\n",
    "ps = PorterStemmer()\n",
    "lemmatizer = WordNetLemmatizer()\n",
    "          \n",
    "def remove_emojis(text):\n",
    "    emoji_pattern = re.compile(\"[\"\n",
    "                               u\"\\U0001F600-\\U0001F64F\" \n",
    "                               u\"\\U0001F300-\\U0001F5FF\"  \n",
    "                               u\"\\U0001F680-\\U0001F6FF\"  \n",
    "                               u\"\\U0001F1E0-\\U0001F1FF\"  \n",
    "                               u\"\\U00002500-\\U00002BEF\"  \n",
    "                               u\"\\U00002702-\\U000027B0\"\n",
    "                               u\"\\U00002702-\\U000027B0\"\n",
    "                               u\"\\U000024C2-\\U0001F251\"\n",
    "                               u\"\\U0001f926-\\U0001f937\"\n",
    "                               u\"\\U00010000-\\U0010ffff\"\n",
    "                               u\"\\u2640-\\u2642\"\n",
    "                               u\"\\u2600-\\u2B55\"\n",
    "                               u\"\\u200d\"\n",
    "                               u\"\\u23cf\"\n",
    "                               u\"\\u23e9\"\n",
    "                               u\"\\u231a\"\n",
    "                               u\"\\ufe0f\" \n",
    "                               u\"\\u3030\"\n",
    "                               \"]+\", flags=re.UNICODE)\n",
    "    return emoji_pattern.sub(r'', text)\n",
    "    \n",
    "def pre_process(text):\n",
    "    if isinstance(text , str) :\n",
    "        text = remove_emojis(text)\n",
    "        text = text.lower()\n",
    "        text = re.sub(r'\\d+' , \"\" , text)\n",
    "        text = re.sub(r\"http\\S+|www\\S+|https\\S+\" , \" \" , text , flags = re.MULTILINE)\n",
    "        text = text.translate(str.maketrans(\"\" , \"\" , string.punctuation))\n",
    "        text = re.sub(r'\\@\\w+|\\#\\w+' , \"\" , text)\n",
    "    \n",
    "        words = word_tokenize(text)\n",
    "        filtered_words = [word for word in words if word not in stop_words]\n",
    "                                 \n",
    "        stemmed_words = [ps.stem(word) for word in filtered_words]\n",
    "                                 \n",
    "        lemmatized_words = [lemmatizer.lemmatize(word , pos = 'a') for word in stemmed_words]\n",
    "        \n",
    "        return \" \".join(lemmatized_words)\n",
    "    \n",
    "    \n",
    "for ind in train_data.index :\n",
    "    text = train_data['text'][ind]\n",
    "    label = train_data['labels'][ind]\n",
    "    if isinstance(text , str):\n",
    "        temp = pre_process(text)\n",
    "        if temp == \"\" or temp is None :\n",
    "            continue\n",
    "        train_X.append(temp)\n",
    "        train_Y.append(label)\n",
    "                    \n",
    "for ind in test_data.index :\n",
    "    text = test_data['text'][ind]\n",
    "    label = test_data['labels'][ind]\n",
    "    if isinstance(text , str):\n",
    "        temp = pre_process(text)\n",
    "        if temp == \"\" or temp is None :\n",
    "            continue\n",
    "        test_X.append(pre_process(text))\n",
    "        test_Y.append(label)\n",
    "    "
   ]
  },
  {
   "cell_type": "code",
   "execution_count": 7,
   "id": "564302f7-124e-4ab4-879a-cffbf2b29c9b",
   "metadata": {
    "tags": []
   },
   "outputs": [],
   "source": [
    "Tfidf_vector = TfidfVectorizer(ngram_range = (2,2))\n",
    "traindata = Tfidf_vector.fit_transform(train_X)\n",
    "testdata = Tfidf_vector.transform(test_X)"
   ]
  },
  {
   "cell_type": "code",
   "execution_count": 8,
   "id": "9b97fffe-3cc9-455b-8262-67960026c511",
   "metadata": {
    "tags": []
   },
   "outputs": [
    {
     "data": {
      "text/html": [
       "<style>#sk-container-id-1 {color: black;}#sk-container-id-1 pre{padding: 0;}#sk-container-id-1 div.sk-toggleable {background-color: white;}#sk-container-id-1 label.sk-toggleable__label {cursor: pointer;display: block;width: 100%;margin-bottom: 0;padding: 0.3em;box-sizing: border-box;text-align: center;}#sk-container-id-1 label.sk-toggleable__label-arrow:before {content: \"▸\";float: left;margin-right: 0.25em;color: #696969;}#sk-container-id-1 label.sk-toggleable__label-arrow:hover:before {color: black;}#sk-container-id-1 div.sk-estimator:hover label.sk-toggleable__label-arrow:before {color: black;}#sk-container-id-1 div.sk-toggleable__content {max-height: 0;max-width: 0;overflow: hidden;text-align: left;background-color: #f0f8ff;}#sk-container-id-1 div.sk-toggleable__content pre {margin: 0.2em;color: black;border-radius: 0.25em;background-color: #f0f8ff;}#sk-container-id-1 input.sk-toggleable__control:checked~div.sk-toggleable__content {max-height: 200px;max-width: 100%;overflow: auto;}#sk-container-id-1 input.sk-toggleable__control:checked~label.sk-toggleable__label-arrow:before {content: \"▾\";}#sk-container-id-1 div.sk-estimator input.sk-toggleable__control:checked~label.sk-toggleable__label {background-color: #d4ebff;}#sk-container-id-1 div.sk-label input.sk-toggleable__control:checked~label.sk-toggleable__label {background-color: #d4ebff;}#sk-container-id-1 input.sk-hidden--visually {border: 0;clip: rect(1px 1px 1px 1px);clip: rect(1px, 1px, 1px, 1px);height: 1px;margin: -1px;overflow: hidden;padding: 0;position: absolute;width: 1px;}#sk-container-id-1 div.sk-estimator {font-family: monospace;background-color: #f0f8ff;border: 1px dotted black;border-radius: 0.25em;box-sizing: border-box;margin-bottom: 0.5em;}#sk-container-id-1 div.sk-estimator:hover {background-color: #d4ebff;}#sk-container-id-1 div.sk-parallel-item::after {content: \"\";width: 100%;border-bottom: 1px solid gray;flex-grow: 1;}#sk-container-id-1 div.sk-label:hover label.sk-toggleable__label {background-color: #d4ebff;}#sk-container-id-1 div.sk-serial::before {content: \"\";position: absolute;border-left: 1px solid gray;box-sizing: border-box;top: 0;bottom: 0;left: 50%;z-index: 0;}#sk-container-id-1 div.sk-serial {display: flex;flex-direction: column;align-items: center;background-color: white;padding-right: 0.2em;padding-left: 0.2em;position: relative;}#sk-container-id-1 div.sk-item {position: relative;z-index: 1;}#sk-container-id-1 div.sk-parallel {display: flex;align-items: stretch;justify-content: center;background-color: white;position: relative;}#sk-container-id-1 div.sk-item::before, #sk-container-id-1 div.sk-parallel-item::before {content: \"\";position: absolute;border-left: 1px solid gray;box-sizing: border-box;top: 0;bottom: 0;left: 50%;z-index: -1;}#sk-container-id-1 div.sk-parallel-item {display: flex;flex-direction: column;z-index: 1;position: relative;background-color: white;}#sk-container-id-1 div.sk-parallel-item:first-child::after {align-self: flex-end;width: 50%;}#sk-container-id-1 div.sk-parallel-item:last-child::after {align-self: flex-start;width: 50%;}#sk-container-id-1 div.sk-parallel-item:only-child::after {width: 0;}#sk-container-id-1 div.sk-dashed-wrapped {border: 1px dashed gray;margin: 0 0.4em 0.5em 0.4em;box-sizing: border-box;padding-bottom: 0.4em;background-color: white;}#sk-container-id-1 div.sk-label label {font-family: monospace;font-weight: bold;display: inline-block;line-height: 1.2em;}#sk-container-id-1 div.sk-label-container {text-align: center;}#sk-container-id-1 div.sk-container {/* jupyter's `normalize.less` sets `[hidden] { display: none; }` but bootstrap.min.css set `[hidden] { display: none !important; }` so we also need the `!important` here to be able to override the default hidden behavior on the sphinx rendered scikit-learn.org. See: https://github.com/scikit-learn/scikit-learn/issues/21755 */display: inline-block !important;position: relative;}#sk-container-id-1 div.sk-text-repr-fallback {display: none;}</style><div id=\"sk-container-id-1\" class=\"sk-top-container\"><div class=\"sk-text-repr-fallback\"><pre>MultinomialNB()</pre><b>In a Jupyter environment, please rerun this cell to show the HTML representation or trust the notebook. <br />On GitHub, the HTML representation is unable to render, please try loading this page with nbviewer.org.</b></div><div class=\"sk-container\" hidden><div class=\"sk-item\"><div class=\"sk-estimator sk-toggleable\"><input class=\"sk-toggleable__control sk-hidden--visually\" id=\"sk-estimator-id-1\" type=\"checkbox\" checked><label for=\"sk-estimator-id-1\" class=\"sk-toggleable__label sk-toggleable__label-arrow\">MultinomialNB</label><div class=\"sk-toggleable__content\"><pre>MultinomialNB()</pre></div></div></div></div></div>"
      ],
      "text/plain": [
       "MultinomialNB()"
      ]
     },
     "execution_count": 8,
     "metadata": {},
     "output_type": "execute_result"
    }
   ],
   "source": [
    "multiNB = MultinomialNB()\n",
    "multiNB.fit(traindata , train_Y)"
   ]
  },
  {
   "cell_type": "code",
   "execution_count": 9,
   "id": "3d386025-49f8-4a39-8566-b7c581a37dc9",
   "metadata": {
    "tags": []
   },
   "outputs": [],
   "source": [
    "def evaluation() :\n",
    "    predictions = multiNB.predict(testdata)\n",
    "    cm_matrix = confusion_matrix(test_Y , predictions)\n",
    "    score = accuracy_score(test_Y , predictions)\n",
    "    report = classification_report(test_Y , predictions)\n",
    "    print(\"--------------->CONFUSION MATRIX<----------------\")\n",
    "    print(cm_matrix)\n",
    "    print(\"--------------->ACCURACY SCORE<----------------\")\n",
    "    print(score)\n",
    "    print(\"--------------->CLASSIFICATION REPORT<----------------\")\n",
    "    print(report)\n",
    "    return"
   ]
  },
  {
   "cell_type": "code",
   "execution_count": 10,
   "id": "6920d28a-d609-4596-9c89-18bc05bbf2fb",
   "metadata": {},
   "outputs": [],
   "source": [
    "def test() :\n",
    "   \n",
    "    while True :\n",
    "        txt = input(\" ENTER YOUR TWEET , EXIT FOR EXITING \")\n",
    "        txt = txt.lower()\n",
    "        if txt == \"exit\" :\n",
    "            break\n",
    "        text = []\n",
    "        text.append(pre_process(txt))\n",
    "        test = Tfidf_vector.transform(text)\n",
    "        prediction = multiNB.predict(test)\n",
    "        if prediction == 1 :\n",
    "            print(\"Tweet is POSITIVE\")\n",
    "        elif prediction == 0 :\n",
    "            print(\"Tweet is NEUTRAL\")\n",
    "        else :\n",
    "            print(\"Tweet is NEGATIVE\")\n",
    "            \n",
    "    return"
   ]
  },
  {
   "cell_type": "code",
   "execution_count": 11,
   "id": "c8075910-cb14-474c-a01f-8c728f4dcd60",
   "metadata": {},
   "outputs": [],
   "source": [
    "def main() :\n",
    "    choice = -1\n",
    "    while True :\n",
    "        choice = int(input(\" 1 : evaluation \\n 2 : test  \\n anything other : exit \\n\"))\n",
    "        if choice == 1 :\n",
    "            evaluation()\n",
    "        elif choice == 2:\n",
    "            test()\n",
    "        else :\n",
    "            break\n",
    "            \n",
    "    return"
   ]
  },
  {
   "cell_type": "code",
   "execution_count": 12,
   "id": "54297800-eb57-4865-ba08-0f77b78a75c8",
   "metadata": {
    "tags": []
   },
   "outputs": [
    {
     "name": "stdin",
     "output_type": "stream",
     "text": [
      " 1 : evaluation \n",
      " 2 : test  \n",
      " anything other : exit \n",
      " 1\n"
     ]
    },
    {
     "name": "stdout",
     "output_type": "stream",
     "text": [
      "--------------->CONFUSION MATRIX<----------------\n",
      "[[264   0   1]\n",
      " [  9 273   3]\n",
      " [ 14   1 262]]\n",
      "--------------->ACCURACY SCORE<----------------\n",
      "0.966142684401451\n",
      "--------------->CLASSIFICATION REPORT<----------------\n",
      "              precision    recall  f1-score   support\n",
      "\n",
      "          -1       0.92      1.00      0.96       265\n",
      "           0       1.00      0.96      0.98       285\n",
      "           1       0.98      0.95      0.97       277\n",
      "\n",
      "    accuracy                           0.97       827\n",
      "   macro avg       0.97      0.97      0.97       827\n",
      "weighted avg       0.97      0.97      0.97       827\n",
      "\n"
     ]
    },
    {
     "name": "stdin",
     "output_type": "stream",
     "text": [
      " 1 : evaluation \n",
      " 2 : test  \n",
      " anything other : exit \n",
      " 2\n",
      " ENTER YOUR TWEET , EXIT FOR EXITING  He is a bad influence \n"
     ]
    },
    {
     "name": "stdout",
     "output_type": "stream",
     "text": [
      "Tweet is NEGATIVE\n"
     ]
    },
    {
     "name": "stdin",
     "output_type": "stream",
     "text": [
      " ENTER YOUR TWEET , EXIT FOR EXITING  exit\n",
      " 1 : evaluation \n",
      " 2 : test  \n",
      " anything other : exit \n",
      " 0\n"
     ]
    }
   ],
   "source": [
    "main()"
   ]
  },
  {
   "cell_type": "markdown",
   "id": "d2008337-6868-445c-85ad-ad2e280c2914",
   "metadata": {},
   "source": [
    " "
   ]
  }
 ],
 "metadata": {
  "kernelspec": {
   "display_name": "Python 3 (ipykernel)",
   "language": "python",
   "name": "python3"
  },
  "language_info": {
   "codemirror_mode": {
    "name": "ipython",
    "version": 3
   },
   "file_extension": ".py",
   "mimetype": "text/x-python",
   "name": "python",
   "nbconvert_exporter": "python",
   "pygments_lexer": "ipython3",
   "version": "3.11.5"
  }
 },
 "nbformat": 4,
 "nbformat_minor": 5
}
